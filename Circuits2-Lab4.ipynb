{
 "cells": [
  {
   "cell_type": "markdown",
   "id": "3737eeeb-4c5c-47a1-9d23-7192865c3259",
   "metadata": {
    "tags": []
   },
   "source": [
    "# Lab 4"
   ]
  },
  {
   "cell_type": "markdown",
   "id": "bb3ff804-ea22-41ff-9d75-da039a64ff73",
   "metadata": {
    "tags": []
   },
   "source": [
    "## Intro"
   ]
  },
  {
   "cell_type": "markdown",
   "id": "235e5b31-2d4b-485d-bf27-7d5fd8f104f4",
   "metadata": {
    "tags": []
   },
   "source": [
    "### Purpose"
   ]
  },
  {
   "cell_type": "markdown",
   "id": "84aadc2c-cf93-4bef-9996-b8a60df46348",
   "metadata": {
    "tags": []
   },
   "source": [
    "Introduce sinusoidal steady state analysis, show that Kirchoff’s laws apply to phasors in the frequency domain, and gain skills in use of multimeters and oscilloscopes to make accurate magnitude and phase measurements of sinusoidal signals."
   ]
  },
  {
   "cell_type": "markdown",
   "id": "caf6fda8-da4e-4f9b-b2db-bcca8c42f881",
   "metadata": {
    "tags": []
   },
   "source": [
    "### Equipment"
   ]
  },
  {
   "cell_type": "markdown",
   "id": "93675064-a863-42e6-b798-64aa06a03dc0",
   "metadata": {
    "tags": []
   },
   "source": [
    "Prototyping board, multimeter, signal generator, oscilloscope\n",
    "\n",
    "• 2x 100Ω resistor, 1x 51Ω resistor and 1x 1uF capacitor"
   ]
  },
  {
   "cell_type": "markdown",
   "id": "a29888a1-0323-4c01-8b33-1c54c605f7ca",
   "metadata": {
    "jp-MarkdownHeadingCollapsed": true,
    "tags": []
   },
   "source": [
    "### Circuit"
   ]
  },
  {
   "cell_type": "markdown",
   "id": "2d179ff6-50ec-40d9-a9f6-7d830ae8c26e",
   "metadata": {
    "tags": []
   },
   "source": [
    "![Circuit](images/Circuit-Lab4.png)"
   ]
  },
  {
   "cell_type": "markdown",
   "id": "eddd81b2-5ec4-4f17-b12b-b8193f783c96",
   "metadata": {
    "tags": []
   },
   "source": [
    "## Pre-lab"
   ]
  },
  {
   "cell_type": "code",
   "execution_count": 17,
   "id": "fcd67fb3-8f84-454c-a5af-954be3927a9d",
   "metadata": {},
   "outputs": [],
   "source": [
    "import math"
   ]
  },
  {
   "cell_type": "code",
   "execution_count": 18,
   "id": "dd0b88e8-2c28-49f5-bd92-91bfa77c6693",
   "metadata": {},
   "outputs": [],
   "source": [
    "freq=300\n",
    "capac=1*10**-6\n",
    "Vs = 5\n",
    "R1 = 100\n",
    "R2 = 100\n",
    "R3 = 51"
   ]
  },
  {
   "cell_type": "code",
   "execution_count": 19,
   "id": "68a32b79-6897-4830-8bbc-9b498dd612be",
   "metadata": {},
   "outputs": [],
   "source": [
    "omega=2*math.pi*freq\n",
    "imped=1/complex(0,omega*capac)"
   ]
  },
  {
   "cell_type": "code",
   "execution_count": 20,
   "id": "cb65a712-6254-4aaa-8f61-130b435d6017",
   "metadata": {},
   "outputs": [],
   "source": [
    "I1 = Vs / ((1/(100)+1/(51+imped))**-1+100)\n",
    "V1 = I1*R1\n",
    "V2 = Vs - V1\n",
    "I2 = V2 / R2\n",
    "I3 = I1 - I2\n",
    "V3 = I3 * R3"
   ]
  },
  {
   "cell_type": "code",
   "execution_count": 21,
   "id": "f03f8626-054c-4f78-ba09-d7fcd076a861",
   "metadata": {},
   "outputs": [
    {
     "name": "stdout",
     "output_type": "stream",
     "text": [
      "V1: ( 2.54+0.227j)\t V2: ( 2.46-0.227j)\t V3: ( 0.0442+0.232j)\n",
      "I1: ( 0.0254+0.00227j)\t I2: ( 0.0246-0.00227j)\t I3: ( 0.000866+0.00455j)\n"
     ]
    }
   ],
   "source": [
    "print(f\"V1: {V1: .3}\\t V2: {V2: .3}\\t V3: {V3: .3}\")\n",
    "\n",
    "print(f\"I1: {I1: .3}\\t I2: {I2: .3}\\t I3: {I3: .3}\")"
   ]
  },
  {
   "cell_type": "markdown",
   "id": "1f5060d9-7522-49c1-b78f-2337c96a94a2",
   "metadata": {
    "tags": []
   },
   "source": [
    "## Lab Tasks"
   ]
  },
  {
   "cell_type": "markdown",
   "id": "9840c0fe-13c2-4d1e-9462-66d9791c4e2a",
   "metadata": {},
   "source": [
    "1. Verify the accuracy of your test equipment. Connect the AC voltmeter and oscilloscope across the signal generator. Set the frequency generator to output a sine wave. Adjust the frequency on the signal generator to 300Hz and set the amplitude to 5V.\n"
   ]
  },
  {
   "cell_type": "code",
   "execution_count": null,
   "id": "b9d674f8-e365-456d-8be2-e86ce151c732",
   "metadata": {},
   "outputs": [],
   "source": []
  }
 ],
 "metadata": {
  "kernelspec": {
   "display_name": "jupyter",
   "language": "python",
   "name": "jupyter"
  },
  "language_info": {
   "codemirror_mode": {
    "name": "ipython",
    "version": 3
   },
   "file_extension": ".py",
   "mimetype": "text/x-python",
   "name": "python",
   "nbconvert_exporter": "python",
   "pygments_lexer": "ipython3",
   "version": "3.9.10"
  }
 },
 "nbformat": 4,
 "nbformat_minor": 5
}
